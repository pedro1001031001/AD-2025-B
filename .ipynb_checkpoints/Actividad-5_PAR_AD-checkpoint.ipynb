{
 "cells": [
  {
   "cell_type": "markdown",
   "id": "5dcbd2d8-f5f1-4105-8a2e-9b416f602397",
   "metadata": {},
   "source": [
    "<h1> Analítica de Datos | PAR </h1>\n",
    "<h2> <strong>Actividad 5:</strong> Codificación en un cuaderno de Jupyter Notebook 2</h2>\n",
    "\n",
    "<p> <strong>Nombre del alumno:</strong> Pedro Aguilar Rodriguez</p>\n",
    "<p> <strong>Código del alumno:</strong> 218713675</p>\n",
    "<p> <strong>Repositorio GitHub:</strong> <a href='https://github.com/pedro1001031001/AD-2025-B/tree/master'</a>https://github.com/pedro1001031001/AD-2025-B/tree/master<a></a></p>\n",
    "<p> <strong>Fecha:</strong> 29 de agosto de 2025</p>\n",
    "\n",
    "<p> <strong>Objetivo(s):</strong>\n",
    "    <ol>\n",
    "        <li>Explicación de los siguientes tipos de colecciones: \"Listas, Tuplas, Diccionarios y Conjuntos\".</li>\n",
    "        <li>Codificación de los siguientes tipos de colecciones: \"Listas, Tuplas, Diccionarios y Conjuntos\".</li>\n",
    "    </ol>\n",
    "</p>"
   ]
  },
  {
   "cell_type": "markdown",
   "id": "16163ec9-288f-4ef8-a29c-706a879447d7",
   "metadata": {},
   "source": [
    "<p> En el presente Notebook, se documentará sobre las colecciones en Python y ejemplicará las diferentes acciones que se pueden realizar sobre ellas.\n",
    "</p>"
   ]
  },
  {
   "cell_type": "markdown",
   "id": "8d6be0aa-afb5-42c9-9d28-d4b9c44889eb",
   "metadata": {},
   "source": [
    "<h3> Colecciones</h3>\n",
    "<p>\n",
    "    \n",
    "</p>\n",
    "\n",
    "<h4> Listas</h4>\n",
    "<p>\n",
    "    Son datos formados por más de un elemento o componente (datos estructurados) (Guardati Buemo, 2023, p. 13). <br>\n",
    "    &emsp; Por lo general, hace referencia a una colección de datos, similar a un array, los cuales pueden ser de cualquier tipo; pero, su principal diferencia  es que son colecciones ordenadas, es decir, se le da importancia al orden en el cual se posicionan los datos, tomando el primer elemento la posición \"0\" (Guardati Buemo, 2023, pp. 13-14). <br>\n",
    "    &emsp; Otra distinción es su mutabilidad, es decir, pueden modificarse, agregando o quitando elementos (Guardati Buemo, 2023, p. 13).\n",
    "    Para definir a las listas, se sigue la siguiente sintaxis:\n",
    "    \n",
    "    nombre_lista = [valor_1, valor_2, ..., valor_n]\n",
    "<br>\n",
    "    Donde:\n",
    "    <ol>\n",
    "        <li>Primero, se escribe el nombre/identificador de la lista.</li>\n",
    "        <li>Seguido, se posiciona el signo de asignacion (\"=\").</li>\n",
    "        <li>Después, se enlistan los valores dentro de corchetes (\"[ ]\") y separados por comas (\",\") (Guardati Buemo, 2023, p. 14).</li>\n",
    "    </ol>\n",
    "    <br>\n",
    "    &emsp; Una vez tenida la lista, para acceder a los datos, se realiza a traves de un \"índice\" númerico (entero), el cual se escribe entre corchetes, seguido al nombre de la lista (Guardati Buemo, 2023, p. 18). A continuación, se ejemplifica como se accede a los valores de las listas:\n",
    "    \n",
    "    nombre_lista[indice]\n",
    "<br>\n",
    "    &emsp; Para manipular los datos de las listas, existen diversas funciones exclusivas para operar con las listas (Guardati Buemo, 2023, p. 21). A continuación se enunciaran esas funciones:\n",
    "    <br>\n",
    "    <ol>\n",
    "        <li><em> \"nombre_lista.append(elemento)\"</em>. Agrega elementos al final de la lista.</li>\n",
    "        <li><em> \"nombre_lista.count(elemento)\"</em>. Devuelve el número de veces que el elemento se repite.</li>\n",
    "        <li><em> \"len(nombre_lista)\"</em>. Devuelve el total de elementos que tiene la lista.</li>\n",
    "        <li><em> \"nombre_lista.insert(indice, valor)\"</em>. Agrega en la posición indicada el nuevo valor, desplazando los demás elementos a la derecha. Si el índice es mayor que su tamaño, el nuevo valor se posiciona al final.</li>\n",
    "        <li><em> \"nombre_lista.entend(otra_lista)\"</em>. Agrega al final los valores de otra lista.</li>\n",
    "        <li><em> \"nombre_lista.remove(elemento)\"</em>. Quinta un elemento de la lista.</li>\n",
    "        <li><em> \"nombre_lista.intex(elemento)\"</em>. Devuelve la posición de elemento.</li>\n",
    "        <li><em> \"nombre_lista.sort()\"</em>. Ordena la lista de menor a mayor.</li>\n",
    "        <li><em> \"nombre_lista.reverse()\"</em>. Invierte el orden de los elementos de la lista.</li>\n",
    "        <li><em> \"nombre_lista.clear()\"</em>. Quita y devuelve el último elemento.</li>\n",
    "        <li><em> \"nombre_lista.pop(n)\"</em>. Devuelve y elimina el elemento de la posición <em>n</en>.</li>\n",
    "        <li><em> del nombre_lista(n)</em>. Elimina de la lista el elemento de la posición <em>n</em>.</li>\n",
    "        <li><em> del nombre_lista</em>. Elimina la lista completa (Guardati Buemo, 2023, pp. 21-22).</li>\n",
    "    </ol>\n",
    "    &emsp; A continuación se ejemplificara la manera en cómo se declara, se accede y se manipulan las listas.\n",
    "</p>\n"
   ]
  },
  {
   "cell_type": "code",
   "execution_count": 35,
   "id": "1952508d-2f70-4087-95f6-8b902727dedf",
   "metadata": {},
   "outputs": [
    {
     "name": "stdout",
     "output_type": "stream",
     "text": [
      "Valores de la lista: ['Lunes', 'Martes', 'Miércoles', 'Jueves', 'Viernes', 'Sábado', 'Domingo'] \n",
      "\n",
      "Valor en el índice 0: Lunes \n",
      "\n",
      "Valores nuevos: ['Lunes', 'Martes', 'Miércoles', 'Jueves', 'Viernes', 'Sábado', 'Domingo', 'Lunes'] \n",
      "\n",
      "Repetición de lunes: 2\n",
      "\n",
      "Número de elementos: 8\n",
      "Valores nuevos: ['Lunes', 'Martes', 'Miércoles', 'Jueves', 'Viernes', 'Sábado', 'Domingo', 'Lunes', 'Martes'] \n",
      "\n",
      "Valores nuevos: ['Lunes', 'Martes', 'Miércoles', 'Jueves', 'Viernes', 'Sábado', 'Domingo', 'Lunes', 'Martes', 1, 2, 3, 4, 5, 6, 7, 8, 9, 0, 1, 2, 3, 4, 5, 6, 7, 8, 9, 0] \n",
      "\n",
      "Valores nuevos: ['Lunes', 'Martes', 'Miércoles', 'Jueves', 'Viernes', 'Sábado', 'Domingo', 'Lunes', 'Martes', 2, 3, 4, 5, 6, 7, 8, 9, 0, 1, 2, 3, 4, 5, 6, 7, 8, 9, 0] \n",
      "\n",
      "Valor en el índice 0: 17 \n",
      "\n",
      "Valores de la lista: [0, 0, 1, 1, 2, 2, 3, 3, 4, 4, 5, 5, 6, 6, 7, 7, 8, 8, 9, 9] \n",
      "\n",
      "Valores de la lista: [9, 9, 8, 8, 7, 7, 6, 6, 5, 5, 4, 4, 3, 3, 2, 2, 1, 1, 0, 0] \n",
      "\n",
      "Valores de la lista: [] \n",
      "\n",
      "Valores de la lista: [9, 9, 8, 8, 7, 7, 6, 6, 5, 5, 4, 4, 3, 3, 2, 2, 1, 1, 0] \n",
      "\n",
      "Valores de la lista: [9, 9, 8, 8, 7, 7, 6, 6, 5, 5] \n",
      "\n",
      "Valores de la lista: [9, 9, 8, 8, 7, 7, 6, 6, 5, 5, 4, 4, 3, 3, 2, 2, 1, 1, 0] \n",
      "\n"
     ]
    }
   ],
   "source": [
    "# Declaración e inicialización de las listas ----------------------------\n",
    "Dias_S : list = [\"Lunes\", \"Martes\", \"Miércoles\", \"Jueves\", \"Viernes\", \"Sábado\", \"Domingo\"]\n",
    "print(f\"Valores de la lista: {Dias_S} \\n\") # Con datos\n",
    "\n",
    "num : list = [1,2,3,4,5,6,7,8,9,0,1,2,3,4,5,6,7,8,9,0]\n",
    "\n",
    "Vacia : list = [] # Sin datos\n",
    "\n",
    "# Acceso a las listas --------------------------------------------------\n",
    "print(f\"Valor en el índice 0: {Dias_S[0]} \\n\") \n",
    "\n",
    "# Manipulación de los datos / las listas -------------------------------\n",
    "    # Agregación de un nuevo elemento\n",
    "Dias_S.append(\"Lunes\")\n",
    "print(f\"Valores nuevos: {Dias_S} \\n\")\n",
    "    \n",
    "    # Devolución de la concurencia del valor.\n",
    "Veces = Dias_S.count(\"Lunes\")\n",
    "print(f\"Repetición de lunes: {Veces}\\n\")\n",
    "\n",
    "    # Devolución del total de elemntos\n",
    "total = len(Dias_S)\n",
    "print(f\"Número de elementos: {total}\")\n",
    "\n",
    "    # Agregación de un elemento en una posición especifica.\n",
    "Dias_S.insert(8,\"Martes\")\n",
    "print(f\"Valores nuevos: {Dias_S} \\n\")\n",
    "\n",
    "    # Agregación de los valores de otra lista.\n",
    "Dias_S.extend(num)\n",
    "print(f\"Valores nuevos: {Dias_S} \\n\")\n",
    "\n",
    "    # Eliminación de un elemento de la lista\n",
    "Dias_S.remove(1)\n",
    "print(f\"Valores nuevos: {Dias_S} \\n\")\n",
    "\n",
    "    # Devolución del índice de un elemento\n",
    "idx = Dias_S.index(0)\n",
    "print(f\"Valor en el índice 0: {idx} \\n\")\n",
    "\n",
    "    # Organización de la lista\n",
    "num.sort()\n",
    "print(f\"Valores de la lista: {num} \\n\")\n",
    "\n",
    "    # Inversa de las listas\n",
    "num.reverse()\n",
    "print(f\"Valores de la lista: {num} \\n\")\n",
    "\n",
    "    # Eliminación de los elementos de una lista\n",
    "Dias_S.clear()\n",
    "print(f\"Valores de la lista: {Dias_S} \\n\")\n",
    "\n",
    "    # Consulta y eliminación de un elementos en la posición n\n",
    "num.pop(-1)\n",
    "print(f\"Valores de la lista: {num} \\n\")\n",
    "\n",
    "    # División de listas\n",
    "sublista = num[0:10]\n",
    "print(f\"Valores de la lista: {sublista} \\n\")\n",
    "\n",
    "    # Duplicación de una lista\n",
    "num_2 = num\n",
    "print(f\"Valores de la lista: {num_2} \\n\")\n",
    "\n",
    "    # Eliminación de una lista\n",
    "del num"
   ]
  },
  {
   "cell_type": "markdown",
   "id": "82da8d51-6aff-45c6-90eb-9c432de7bc3a",
   "metadata": {},
   "source": [
    "<h4> Tuplas</h2>\n",
    "<p>\n",
    "    \n",
    "</p>"
   ]
  },
  {
   "cell_type": "code",
   "execution_count": null,
   "id": "81638d20-023e-4c12-8587-f2720dafe210",
   "metadata": {},
   "outputs": [],
   "source": []
  },
  {
   "cell_type": "markdown",
   "id": "ab657a54-949f-43e0-88af-1ba58c7da91f",
   "metadata": {},
   "source": [
    "<h4> Diccionarios</h4>\n",
    "<p>\n",
    "    Son matrices asociativas, su nombre es concedudi por la relación de su clave y un valor (González Duque, 2018, p.27).\n",
    "</p>"
   ]
  },
  {
   "cell_type": "code",
   "execution_count": null,
   "id": "90a8814d-ad9f-4355-8e08-87a33dea60f4",
   "metadata": {},
   "outputs": [],
   "source": []
  },
  {
   "cell_type": "markdown",
   "id": "9adb0257-0652-425e-984c-6804931c982c",
   "metadata": {},
   "source": [
    "<h4> Conjuntos</h4>\n",
    "<p>\n",
    "    \n",
    "</p>"
   ]
  },
  {
   "cell_type": "code",
   "execution_count": null,
   "id": "895d70ac-e771-4abc-ba3e-67a004146dcc",
   "metadata": {},
   "outputs": [],
   "source": []
  },
  {
   "cell_type": "markdown",
   "id": "a8487d9b-e60e-45ff-8515-10d4342f0039",
   "metadata": {},
   "source": [
    "<h2>Referencias</h2>\n",
    "<p><div style=“sangría de texto: -36px; relleno izquierdo: 36px;”>\n",
    "    García López de Lacalle, J. (2016, septiembre 27) Programación en Python: Tipos básicos y colecciones [Diapositivas de presentación]. Universidad de Politécnica de Madrid. <a href=\"https://www.etsisi.upm.es/sites/default/files/catedras/python_2_tiposbasicoscolecciones_2016.pdf\">https://www.etsisi.upm.es/sites/default/files/catedras/python_2_tiposbasicoscolecciones_2016.pdf.</a>\n",
    "    González Duque, R. (2018). Python para todos. Mundo GeeK. <a href =\"https://persoal.citius.usc.es/eva.cernadas/informaticaparacientificos/material/libros/Python%20para%20todos.pdf\">https://persoal.citius.usc.es/eva.cernadas/informaticaparacientificos/material/libros/Python%20para%20todos.pdf</a>\n",
    "    Guardati Buemo, S. (2023). Colecciones de dato y algoritmos en Python: de cero al infinito. MARCOMBO. <a href=\"https://content.e-bookshelf.de/media/reading/L-18808078-008f7c9ce4.pdf\">https://content.e-bookshelf.de/media/reading/L-18808078-008f7c9ce4.pdf</a>\n",
    "    \n",
    "</div> </p>"
   ]
  },
  {
   "cell_type": "code",
   "execution_count": null,
   "id": "53900833-f337-4c44-a186-2d2309a92cbe",
   "metadata": {},
   "outputs": [],
   "source": []
  }
 ],
 "metadata": {
  "kernelspec": {
   "display_name": "Python [conda env:base] *",
   "language": "python",
   "name": "conda-base-py"
  },
  "language_info": {
   "codemirror_mode": {
    "name": "ipython",
    "version": 3
   },
   "file_extension": ".py",
   "mimetype": "text/x-python",
   "name": "python",
   "nbconvert_exporter": "python",
   "pygments_lexer": "ipython3",
   "version": "3.13.5"
  }
 },
 "nbformat": 4,
 "nbformat_minor": 5
}
