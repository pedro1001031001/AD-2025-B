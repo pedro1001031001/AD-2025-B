{
 "cells": [
  {
   "cell_type": "markdown",
   "id": "3c7a3c3f-c375-46ba-97cd-ec5a18e0ea1b",
   "metadata": {},
   "source": [
    "<h1> Analítica de Datos | PAR </h1>\n",
    "<h2> <strong>Actividad 7:</strong> Uso de la libreria Scikit-Learn para analizar un conjunto de datos</h2>\n",
    "\n",
    "<p>\n",
    "    <strong>Nombre del alumno:</strong> Pedro Aguilar Rodriguez\n",
    "    <br>\n",
    "    <strong>Código del alumno:</strong> 218713675\n",
    "    <br>\n",
    "    <strong>Repositorio GitHub: </strong><a href='https://github.com/pedro1001031001/AD-2025-B/tree/master'>https://github.com/pedro1001031001/AD-2025-B/tree/master</a>.\n",
    "    <br>\n",
    "    <strong>Fecha:</strong> 06 de septiembre de 2025\n",
    "    <br>\n",
    "    <strong>Objetivo(s):</strong>\n",
    "    <br>\n",
    "    <ol>\n",
    "        <li> Explicación del análisis del conjunto de datos histórico.</li>\n",
    "        <li> Realización de la predicción, a través de la regresión, para identificar los primeros 20 países.</li>\n",
    "        <li> Graficación de los resultados.</li><br>\n",
    "    </ol>\n",
    "</p>"
   ]
  },
  {
   "cell_type": "markdown",
   "id": "2d3652f7-4a90-47a7-bd85-620288a0bd79",
   "metadata": {},
   "source": [
    "<h3> Metodología para el aprendizaje supervisado </h3>\n",
    "\n",
    "<p>\n",
    "    De acuerdo con la metodología propuesta, a continuación se implementará, a rasgos muy generales, los siguientes pasos:\n",
    "    <ol>\n",
    "        <li> Recopilación de datos a utilizar en el modelo.</li>\n",
    "        <li> División del conjunto de datos en un conjunto de entrenamiento y uno de prueba.</li>\n",
    "        <li> Selección del algoritmo; en este caso, se sugiere que se empleé la regresión como método a propiado.</li> \n",
    "        <li> Entrenamiento del modelo, utilizanndo un conjunto de dato de entrenamiento.</li>\n",
    "        <li> Validación y prueba del modelo, utilizando el conjunto de datos de prueba.</li>\n",
    "        <ol>\n",
    "            <li> Verificación del rendimiento del modelo.</li>\n",
    "            <li> Ajustamiento los parámetros, según sea necesario. </li>\n",
    "    </ol>\n",
    "</p>"
   ]
  },
  {
   "cell_type": "code",
   "execution_count": 6,
   "id": "801f5230-ff79-4429-a41e-8b5e45a26a8c",
   "metadata": {},
   "outputs": [
    {
     "name": "stdout",
     "output_type": "stream",
     "text": [
      "Requirement already satisfied: scikit-learn in c:\\users\\qwerty\\anaconda3\\lib\\site-packages (1.6.1)\n",
      "Requirement already satisfied: numpy>=1.19.5 in c:\\users\\qwerty\\anaconda3\\lib\\site-packages (from scikit-learn) (2.1.3)\n",
      "Requirement already satisfied: scipy>=1.6.0 in c:\\users\\qwerty\\anaconda3\\lib\\site-packages (from scikit-learn) (1.15.3)\n",
      "Requirement already satisfied: joblib>=1.2.0 in c:\\users\\qwerty\\anaconda3\\lib\\site-packages (from scikit-learn) (1.4.2)\n",
      "Requirement already satisfied: threadpoolctl>=3.1.0 in c:\\users\\qwerty\\anaconda3\\lib\\site-packages (from scikit-learn) (3.5.0)\n"
     ]
    }
   ],
   "source": [
    "# Intalación\n",
    "!pip install scikit-learn"
   ]
  },
  {
   "cell_type": "code",
   "execution_count": 42,
   "id": "cda86e9e-56f4-40c9-9333-20b371338e5c",
   "metadata": {},
   "outputs": [
    {
     "ename": "KeyboardInterrupt",
     "evalue": "",
     "output_type": "error",
     "traceback": [
      "\u001b[1;31m---------------------------------------------------------------------------\u001b[0m",
      "\u001b[1;31mKeyboardInterrupt\u001b[0m                         Traceback (most recent call last)",
      "Cell \u001b[1;32mIn[42], line 17\u001b[0m\n\u001b[0;32m     15\u001b[0m \u001b[38;5;28;01mfor\u001b[39;00m value \u001b[38;5;129;01min\u001b[39;00m data[\u001b[38;5;124m'\u001b[39m\u001b[38;5;124mSex\u001b[39m\u001b[38;5;124m'\u001b[39m]:\n\u001b[0;32m     16\u001b[0m     \u001b[38;5;28;01mif\u001b[39;00m value \u001b[38;5;241m==\u001b[39m \u001b[38;5;124m'\u001b[39m\u001b[38;5;124mM\u001b[39m\u001b[38;5;124m'\u001b[39m:\n\u001b[1;32m---> 17\u001b[0m         data[\u001b[38;5;124m'\u001b[39m\u001b[38;5;124mDummy_Sex\u001b[39m\u001b[38;5;124m'\u001b[39m] \u001b[38;5;241m=\u001b[39m \u001b[38;5;241m1\u001b[39m\n\u001b[0;32m     18\u001b[0m     \u001b[38;5;28;01melif\u001b[39;00m value \u001b[38;5;241m==\u001b[39m \u001b[38;5;124m'\u001b[39m\u001b[38;5;124mF\u001b[39m\u001b[38;5;124m'\u001b[39m:\n\u001b[0;32m     19\u001b[0m         data[\u001b[38;5;124m'\u001b[39m\u001b[38;5;124mDummy_Sex\u001b[39m\u001b[38;5;124m'\u001b[39m] \u001b[38;5;241m=\u001b[39m \u001b[38;5;241m0\u001b[39m\n",
      "File \u001b[1;32m~\\anaconda3\\Lib\\site-packages\\pandas\\core\\frame.py:4311\u001b[0m, in \u001b[0;36mDataFrame.__setitem__\u001b[1;34m(self, key, value)\u001b[0m\n\u001b[0;32m   4308\u001b[0m     \u001b[38;5;28mself\u001b[39m\u001b[38;5;241m.\u001b[39m_setitem_array([key], value)\n\u001b[0;32m   4309\u001b[0m \u001b[38;5;28;01melse\u001b[39;00m:\n\u001b[0;32m   4310\u001b[0m     \u001b[38;5;66;03m# set column\u001b[39;00m\n\u001b[1;32m-> 4311\u001b[0m     \u001b[38;5;28mself\u001b[39m\u001b[38;5;241m.\u001b[39m_set_item(key, value)\n",
      "File \u001b[1;32m~\\anaconda3\\Lib\\site-packages\\pandas\\core\\frame.py:4524\u001b[0m, in \u001b[0;36mDataFrame._set_item\u001b[1;34m(self, key, value)\u001b[0m\n\u001b[0;32m   4514\u001b[0m \u001b[38;5;28;01mdef\u001b[39;00m\u001b[38;5;250m \u001b[39m\u001b[38;5;21m_set_item\u001b[39m(\u001b[38;5;28mself\u001b[39m, key, value) \u001b[38;5;241m-\u001b[39m\u001b[38;5;241m>\u001b[39m \u001b[38;5;28;01mNone\u001b[39;00m:\n\u001b[0;32m   4515\u001b[0m \u001b[38;5;250m    \u001b[39m\u001b[38;5;124;03m\"\"\"\u001b[39;00m\n\u001b[0;32m   4516\u001b[0m \u001b[38;5;124;03m    Add series to DataFrame in specified column.\u001b[39;00m\n\u001b[0;32m   4517\u001b[0m \n\u001b[1;32m   (...)\u001b[0m\n\u001b[0;32m   4522\u001b[0m \u001b[38;5;124;03m    ensure homogeneity.\u001b[39;00m\n\u001b[0;32m   4523\u001b[0m \u001b[38;5;124;03m    \"\"\"\u001b[39;00m\n\u001b[1;32m-> 4524\u001b[0m     value, refs \u001b[38;5;241m=\u001b[39m \u001b[38;5;28mself\u001b[39m\u001b[38;5;241m.\u001b[39m_sanitize_column(value)\n\u001b[0;32m   4526\u001b[0m     \u001b[38;5;28;01mif\u001b[39;00m (\n\u001b[0;32m   4527\u001b[0m         key \u001b[38;5;129;01min\u001b[39;00m \u001b[38;5;28mself\u001b[39m\u001b[38;5;241m.\u001b[39mcolumns\n\u001b[0;32m   4528\u001b[0m         \u001b[38;5;129;01mand\u001b[39;00m value\u001b[38;5;241m.\u001b[39mndim \u001b[38;5;241m==\u001b[39m \u001b[38;5;241m1\u001b[39m\n\u001b[0;32m   4529\u001b[0m         \u001b[38;5;129;01mand\u001b[39;00m \u001b[38;5;129;01mnot\u001b[39;00m \u001b[38;5;28misinstance\u001b[39m(value\u001b[38;5;241m.\u001b[39mdtype, ExtensionDtype)\n\u001b[0;32m   4530\u001b[0m     ):\n\u001b[0;32m   4531\u001b[0m         \u001b[38;5;66;03m# broadcast across multiple columns if necessary\u001b[39;00m\n\u001b[0;32m   4532\u001b[0m         \u001b[38;5;28;01mif\u001b[39;00m \u001b[38;5;129;01mnot\u001b[39;00m \u001b[38;5;28mself\u001b[39m\u001b[38;5;241m.\u001b[39mcolumns\u001b[38;5;241m.\u001b[39mis_unique \u001b[38;5;129;01mor\u001b[39;00m \u001b[38;5;28misinstance\u001b[39m(\u001b[38;5;28mself\u001b[39m\u001b[38;5;241m.\u001b[39mcolumns, MultiIndex):\n",
      "File \u001b[1;32m~\\anaconda3\\Lib\\site-packages\\pandas\\core\\frame.py:5267\u001b[0m, in \u001b[0;36mDataFrame._sanitize_column\u001b[1;34m(self, value)\u001b[0m\n\u001b[0;32m   5265\u001b[0m \u001b[38;5;28;01mif\u001b[39;00m is_list_like(value):\n\u001b[0;32m   5266\u001b[0m     com\u001b[38;5;241m.\u001b[39mrequire_length_match(value, \u001b[38;5;28mself\u001b[39m\u001b[38;5;241m.\u001b[39mindex)\n\u001b[1;32m-> 5267\u001b[0m arr \u001b[38;5;241m=\u001b[39m sanitize_array(value, \u001b[38;5;28mself\u001b[39m\u001b[38;5;241m.\u001b[39mindex, copy\u001b[38;5;241m=\u001b[39m\u001b[38;5;28;01mTrue\u001b[39;00m, allow_2d\u001b[38;5;241m=\u001b[39m\u001b[38;5;28;01mTrue\u001b[39;00m)\n\u001b[0;32m   5268\u001b[0m \u001b[38;5;28;01mif\u001b[39;00m (\n\u001b[0;32m   5269\u001b[0m     \u001b[38;5;28misinstance\u001b[39m(value, Index)\n\u001b[0;32m   5270\u001b[0m     \u001b[38;5;129;01mand\u001b[39;00m value\u001b[38;5;241m.\u001b[39mdtype \u001b[38;5;241m==\u001b[39m \u001b[38;5;124m\"\u001b[39m\u001b[38;5;124mobject\u001b[39m\u001b[38;5;124m\"\u001b[39m\n\u001b[1;32m   (...)\u001b[0m\n\u001b[0;32m   5273\u001b[0m     \u001b[38;5;66;03m# TODO: Remove kludge in sanitize_array for string mode when enforcing\u001b[39;00m\n\u001b[0;32m   5274\u001b[0m     \u001b[38;5;66;03m# this deprecation\u001b[39;00m\n\u001b[0;32m   5275\u001b[0m     warnings\u001b[38;5;241m.\u001b[39mwarn(\n\u001b[0;32m   5276\u001b[0m         \u001b[38;5;124m\"\u001b[39m\u001b[38;5;124mSetting an Index with object dtype into a DataFrame will stop \u001b[39m\u001b[38;5;124m\"\u001b[39m\n\u001b[0;32m   5277\u001b[0m         \u001b[38;5;124m\"\u001b[39m\u001b[38;5;124minferring another dtype in a future version. Cast the Index \u001b[39m\u001b[38;5;124m\"\u001b[39m\n\u001b[1;32m   (...)\u001b[0m\n\u001b[0;32m   5280\u001b[0m         stacklevel\u001b[38;5;241m=\u001b[39mfind_stack_level(),\n\u001b[0;32m   5281\u001b[0m     )\n",
      "File \u001b[1;32m~\\anaconda3\\Lib\\site-packages\\pandas\\core\\construction.py:577\u001b[0m, in \u001b[0;36msanitize_array\u001b[1;34m(data, index, dtype, copy, allow_2d)\u001b[0m\n\u001b[0;32m    574\u001b[0m         \u001b[38;5;28;01mfrom\u001b[39;00m\u001b[38;5;250m \u001b[39m\u001b[38;5;21;01mpandas\u001b[39;00m\u001b[38;5;21;01m.\u001b[39;00m\u001b[38;5;21;01mcore\u001b[39;00m\u001b[38;5;21;01m.\u001b[39;00m\u001b[38;5;21;01marrays\u001b[39;00m\u001b[38;5;21;01m.\u001b[39;00m\u001b[38;5;21;01mstring_\u001b[39;00m\u001b[38;5;250m \u001b[39m\u001b[38;5;28;01mimport\u001b[39;00m StringDtype\n\u001b[0;32m    576\u001b[0m         dtype \u001b[38;5;241m=\u001b[39m StringDtype(\u001b[38;5;124m\"\u001b[39m\u001b[38;5;124mpyarrow_numpy\u001b[39m\u001b[38;5;124m\"\u001b[39m)\n\u001b[1;32m--> 577\u001b[0m     data \u001b[38;5;241m=\u001b[39m construct_1d_arraylike_from_scalar(data, \u001b[38;5;28mlen\u001b[39m(index), dtype)\n\u001b[0;32m    579\u001b[0m     \u001b[38;5;28;01mreturn\u001b[39;00m data\n\u001b[0;32m    581\u001b[0m \u001b[38;5;28;01melif\u001b[39;00m \u001b[38;5;28misinstance\u001b[39m(data, ABCExtensionArray):\n\u001b[0;32m    582\u001b[0m     \u001b[38;5;66;03m# it is already ensured above this is not a NumpyExtensionArray\u001b[39;00m\n\u001b[0;32m    583\u001b[0m     \u001b[38;5;66;03m# Until GH#49309 is fixed this check needs to come before the\u001b[39;00m\n\u001b[0;32m    584\u001b[0m     \u001b[38;5;66;03m#  ExtensionDtype check\u001b[39;00m\n",
      "File \u001b[1;32m~\\anaconda3\\Lib\\site-packages\\pandas\\core\\dtypes\\cast.py:1564\u001b[0m, in \u001b[0;36mconstruct_1d_arraylike_from_scalar\u001b[1;34m(value, length, dtype)\u001b[0m\n\u001b[0;32m   1561\u001b[0m     subarr \u001b[38;5;241m=\u001b[39m np\u001b[38;5;241m.\u001b[39mempty(length, dtype\u001b[38;5;241m=\u001b[39mdtype)\n\u001b[0;32m   1562\u001b[0m     \u001b[38;5;28;01mif\u001b[39;00m length:\n\u001b[0;32m   1563\u001b[0m         \u001b[38;5;66;03m# GH 47391: numpy > 1.24 will raise filling np.nan into int dtypes\u001b[39;00m\n\u001b[1;32m-> 1564\u001b[0m         subarr\u001b[38;5;241m.\u001b[39mfill(value)\n\u001b[0;32m   1566\u001b[0m \u001b[38;5;28;01mreturn\u001b[39;00m subarr\n",
      "\u001b[1;31mKeyboardInterrupt\u001b[0m: "
     ]
    }
   ],
   "source": [
    "# librerias\n",
    "import matplotlib.pyplot as plt\n",
    "import pandas as pd\n",
    "import numpy as np\n",
    "from sklearn import preprocessing\n",
    "from sklearn.model_selection import train_test_split\n",
    "\n",
    "# Implementación de la metodología.\n",
    "\n",
    "    # 1. Cargar datos\n",
    "file_path = \"./olympics_dataset.csv\"\n",
    "data = pd.read_csv(file_path, header = 0)\n",
    "\n",
    "    # 2. \n",
    "for value in data['Sex']:\n",
    "    if value == 'M':\n",
    "        data['Dummy_Sex'] = 1\n",
    "    elif value == 'F':\n",
    "        data['Dummy_Sex'] = 0\n",
    "        \n",
    "for value in data['Medal']:\n",
    "    if value == 'Gold':\n",
    "        data['Nominal_Medal'] = 1\n",
    "    elif value == 'Silver':\n",
    "        data['Nominal_Medal'] = 2\n",
    "    elif value == 'Bronze':\n",
    "        data['Nominal_Medal'] = 3\n",
    "    elif value == 'No medal':\n",
    "        data['Nominal_Medal'] = 4\n",
    "\n",
    "for value in data['Medal']:\n",
    "    if value == 'No medal':\n",
    "        data['Dummy_Medal'] = 0\n",
    "    else:\n",
    "        data['Dummy_Medal'] = 1\n",
    "\n",
    "for value in data['Medal']:\n",
    "    data['Country'] = indice\n",
    "    indice += 1\n",
    "\n",
    "lista_unica = list(set(data['NOC']))\n",
    "indice = 1\n",
    "\n",
    "for value in lista_unica:\n",
    "    if value == 'No medal':\n",
    "        data['Dummy_Medal'] = indice\n",
    "    else:\n",
    "        data['Dummy_Medal'] = 1\n",
    "print(data.info())\n",
    "\n",
    "    # 2. \n",
    "X_Sex = data['Dummy_Sex']\n",
    "X_Medal = data['Dummy_Medal']\n",
    "#y = data[]\n",
    "\n",
    "    # 2. Entrenamiento y datos de prueba \n",
    "#X_train, X_test, y_Train, y_test = train_test_split(, random_state = 0)\n"
   ]
  },
  {
   "cell_type": "markdown",
   "id": "4faee034-9429-467d-90a8-d859ff15eccd",
   "metadata": {},
   "source": [
    "<h3> Referencias</h3>\n",
    "\n",
    "<p>\n",
    "    \n",
    "</p>"
   ]
  },
  {
   "cell_type": "code",
   "execution_count": null,
   "id": "79a4ded9-e841-4e5a-aa4b-1d15b28389eb",
   "metadata": {},
   "outputs": [],
   "source": []
  }
 ],
 "metadata": {
  "kernelspec": {
   "display_name": "Python [conda env:base] *",
   "language": "python",
   "name": "conda-base-py"
  },
  "language_info": {
   "codemirror_mode": {
    "name": "ipython",
    "version": 3
   },
   "file_extension": ".py",
   "mimetype": "text/x-python",
   "name": "python",
   "nbconvert_exporter": "python",
   "pygments_lexer": "ipython3",
   "version": "3.13.5"
  }
 },
 "nbformat": 4,
 "nbformat_minor": 5
}
