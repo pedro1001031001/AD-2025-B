{
 "cells": [
  {
   "cell_type": "markdown",
   "id": "5dcbd2d8-f5f1-4105-8a2e-9b416f602397",
   "metadata": {},
   "source": [
    "<h1> Analítica de Datos | PAR </h1>\n",
    "<h2> <strong>Actividad 5:</strong> Codificación en un cuaderno de Jupyter Notebook 2</h2>\n",
    "\n",
    "<p> <strong>Nombre del alumno:</strong> Pedro Aguilar Rodriguez</p>\n",
    "<p> <strong>Código del alumno:</strong> 218713675</p>\n",
    "<p> <strong>Repositorio GitHub:</strong> <a href='https://github.com/pedro1001031001/AD-2025-B/tree/master'</a>https://github.com/pedro1001031001/AD-2025-B/tree/master<a></a></p>\n",
    "<p> <strong>Fecha:</strong> 29 de agosto de 2025</p>\n",
    "\n",
    "<p> <strong>Objetivo(s):</strong>\n",
    "    <ol>\n",
    "        <li>Explicación de los siguientes tipos de colecciones: \"Listas, Tuplas, Diccionarios y Conjuntos\".</li>\n",
    "        <li>Codificación de los siguientes tipos de colecciones: \"Listas, Tuplas, Diccionarios y Conjuntos\".</li>\n",
    "    </ol>\n",
    "</p>"
   ]
  },
  {
   "cell_type": "markdown",
   "id": "16163ec9-288f-4ef8-a29c-706a879447d7",
   "metadata": {},
   "source": [
    "<p> En el presente Notebook, se documentará sobre las colecciones en Python y ejemplicará las diferentes acciones que se pueden realizar sobre ellas.\n",
    "</p>"
   ]
  },
  {
   "cell_type": "markdown",
   "id": "8d6be0aa-afb5-42c9-9d28-d4b9c44889eb",
   "metadata": {},
   "source": [
    "<h3> Colecciones</h3>\n",
    "<p>\n",
    "    \n",
    "</p>\n",
    "\n",
    "<h4> Listas</h4>\n",
    "<p>\n",
    "    Son datos formados por más de un elemento o componente (datos estructurados) (Guardati Buemo, 2023, p. 13). <br>\n",
    "    &emsp; Por lo general, hace referencia a una colección de datos, similar a un array, los cuales pueden ser de cualquier tipo; pero, su principal diferencia  es que son colecciones ordenadas, es decir, se le da importancia al orden en el cual se posicionan los datos, tomando el primer elemento la posición \"0\" (Guardati Buemo, 2023, pp. 13-14). <br>\n",
    "    &emsp; Otra distinción es su mutabilidad, es decir, pueden modificarse, agregando o quitando elementos (Guardati Buemo, 2023, p. 13).\n",
    "    Para definir a las listas, se sigue la siguiente sintaxis:\n",
    "    \n",
    "    nombre_lista = [valor_1, valor_2, ..., valor_n]\n",
    "<br>\n",
    "    Donde:\n",
    "    <ol>\n",
    "        <li>Primero, se escribe el nombre/identificador de la lista.</li>\n",
    "        <li>Seguido, se posiciona el signo de asignacion (\"=\").</li>\n",
    "        <li>Después, se enlistan los valores dentro de corchetes (\"[ ]\") y separados por comas (\",\") (Guardati Buemo, 2023, p. 14).</li>\n",
    "    </ol>\n",
    "    <br>\n",
    "    &emsp; Una vez tenida la lista, para acceder a los datos, se realiza a traves de un \"índice\" númerico (entero), el cual se escribe entre corchetes, seguido al nombre de la lista (Guardati Buemo, 2023, p. 18). A continuación, se ejemplifica como se accede a los valores de las listas:\n",
    "    \n",
    "    nombre_lista[indice]\n",
    "<br>\n",
    "    &emsp; Para manipular los datos de las listas, existen diversas funciones exclusivas para operar con las listas (Guardati Buemo, 2023, p. 21). A continuación se enunciaran esas funciones:\n",
    "    <ol>\n",
    "        <il><em> \"nombre_lista.append(elemento)\"</em>. Agrega elementos al final de la lista.</il>\n",
    "        <il><em> \"nombre_lista.count(elemento)\"</em>. Devuelve el número de veces que el elemento se repite.</li>\n",
    "        <il><em> \"len(nombre_lista)\"</em>. Devuelve el total de elementos que tiene la lista.</il>\n",
    "        <il><em> \"nombre_lista.insert(indice, valor)\"</em>. Agrega en la posición indicada el nuevo valor, desplazando los demás elementos a la derecha. Si el índice es mayor que su tamaño, el nuevo valor se posiciona al final.</il>\n",
    "        <il><em> \"\"</em></il>\n",
    "    </ol>\n",
    "</p>\n"
   ]
  },
  {
   "cell_type": "code",
   "execution_count": 7,
   "id": "1952508d-2f70-4087-95f6-8b902727dedf",
   "metadata": {},
   "outputs": [
    {
     "name": "stdout",
     "output_type": "stream",
     "text": [
      "['Lunes', 'Martes', 'Miércoles', 'Jueves', 'Viernes', 'Sábado', 'Domingo']\n",
      "Lunes\n"
     ]
    }
   ],
   "source": [
    "# Declaración e inicialización de las listas:\n",
    "Dias_S : list = [\"Lunes\", \"Martes\", \"Miércoles\", \"Jueves\", \"Viernes\", \"Sábado\", \"Domingo\"]\n",
    "print(Dias_S) # Con datos\n",
    "\n",
    "Vacia : list = [] # Sin datos\n",
    "\n",
    "# Acceso a las listas\n",
    "print(Dias_S[0]) \n"
   ]
  },
  {
   "cell_type": "markdown",
   "id": "82da8d51-6aff-45c6-90eb-9c432de7bc3a",
   "metadata": {},
   "source": [
    "<h4> Tuplas</h2>\n",
    "<p>\n",
    "    \n",
    "</p>"
   ]
  },
  {
   "cell_type": "code",
   "execution_count": null,
   "id": "81638d20-023e-4c12-8587-f2720dafe210",
   "metadata": {},
   "outputs": [],
   "source": []
  },
  {
   "cell_type": "markdown",
   "id": "ab657a54-949f-43e0-88af-1ba58c7da91f",
   "metadata": {},
   "source": [
    "<h4> Diccionarios</h4>\n",
    "<p>\n",
    "    \n",
    "</p>"
   ]
  },
  {
   "cell_type": "code",
   "execution_count": null,
   "id": "90a8814d-ad9f-4355-8e08-87a33dea60f4",
   "metadata": {},
   "outputs": [],
   "source": []
  },
  {
   "cell_type": "markdown",
   "id": "9adb0257-0652-425e-984c-6804931c982c",
   "metadata": {},
   "source": [
    "<h4> Conjuntos</h4>\n",
    "<p>\n",
    "    \n",
    "</p>"
   ]
  },
  {
   "cell_type": "code",
   "execution_count": null,
   "id": "895d70ac-e771-4abc-ba3e-67a004146dcc",
   "metadata": {},
   "outputs": [],
   "source": []
  },
  {
   "cell_type": "markdown",
   "id": "a8487d9b-e60e-45ff-8515-10d4342f0039",
   "metadata": {},
   "source": [
    "<h2>Referencias</h2>\n",
    "<p><div style=“sangría de texto: -36px; relleno izquierdo: 36px;”>\n",
    "    García López de Lacalle, J. (2016, septiembre 27) Programación en Python: Tipos básicos y colecciones [Diapositivas de presentación]. Universidad de Politécnica de Madrid. <a href=\"https://www.etsisi.upm.es/sites/default/files/catedras/python_2_tiposbasicoscolecciones_2016.pdf\">https://www.etsisi.upm.es/sites/default/files/catedras/python_2_tiposbasicoscolecciones_2016.pdf.</a>\n",
    "    Guardati Buemo, S. (2023). Colecciones de dato y algoritmos en Python: de cero al infinito. MARCOMBO. <a href=\"https://content.e-bookshelf.de/media/reading/L-18808078-008f7c9ce4.pdf\">https://content.e-bookshelf.de/media/reading/L-18808078-008f7c9ce4.pdf</a>\n",
    "    \n",
    "</div> </p>"
   ]
  }
 ],
 "metadata": {
  "kernelspec": {
   "display_name": "Python [conda env:base] *",
   "language": "python",
   "name": "conda-base-py"
  },
  "language_info": {
   "codemirror_mode": {
    "name": "ipython",
    "version": 3
   },
   "file_extension": ".py",
   "mimetype": "text/x-python",
   "name": "python",
   "nbconvert_exporter": "python",
   "pygments_lexer": "ipython3",
   "version": "3.13.5"
  }
 },
 "nbformat": 4,
 "nbformat_minor": 5
}
