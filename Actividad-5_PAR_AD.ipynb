{
 "cells": [
  {
   "cell_type": "markdown",
   "id": "5dcbd2d8-f5f1-4105-8a2e-9b416f602397",
   "metadata": {},
   "source": [
    "<h1> Analítica de Datos | PAR </h1>\n",
    "<h2> <strong>Actividad 5:</strong> Codificación en un cuaderno de Jupyter Notebook 2</h2>\n",
    "\n",
    "<p> <strong>Nombre del alumno:</strong> Pedro Aguilar Rodriguez</p>\n",
    "<p> <strong>Código del alumno:</strong> 218713675</p>\n",
    "<p> <strong>Repositorio GitHub:</strong> <a href='https://github.com/pedro1001031001/AD-2025-B/tree/master'</a>https://github.com/pedro1001031001/AD-2025-B/tree/master<a></a></p>\n",
    "<p> <strong>Fecha:</strong> 29 de agosto de 2025</p>\n",
    "\n",
    "<p> <strong>Objetivo(s):</strong>\n",
    "    <ol>\n",
    "        <li>Explicación de los siguientes tipos de colecciones: \"Listas, Tuplas, Diccionarios y Conjuntos\".</li>\n",
    "        <li>Codificación de los siguientes tipos de colecciones: \"Listas, Tuplas, Diccionarios y Conjuntos\".</li>\n",
    "    </ol>\n",
    "</p>"
   ]
  },
  {
   "cell_type": "code",
   "execution_count": null,
   "id": "250bced8-c9d2-4bfe-a735-381f9250a208",
   "metadata": {},
   "outputs": [],
   "source": []
  }
 ],
 "metadata": {
  "kernelspec": {
   "display_name": "Python [conda env:base] *",
   "language": "python",
   "name": "conda-base-py"
  },
  "language_info": {
   "codemirror_mode": {
    "name": "ipython",
    "version": 3
   },
   "file_extension": ".py",
   "mimetype": "text/x-python",
   "name": "python",
   "nbconvert_exporter": "python",
   "pygments_lexer": "ipython3",
   "version": "3.13.5"
  }
 },
 "nbformat": 4,
 "nbformat_minor": 5
}
