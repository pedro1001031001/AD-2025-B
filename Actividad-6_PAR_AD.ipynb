{
 "cells": [
  {
   "cell_type": "markdown",
   "id": "5f0c72b0-4d00-4662-bb71-f6402e9b61d0",
   "metadata": {},
   "source": [
    "<h1> Analítica de Datos | PAR </h1>\n",
    "<h2> <strong>Actividad 6:</strong> Codificación en un cuaderno de Jupyter Notebook 3</h2>\n",
    "\n",
    "<p>\n",
    "    <strong>Nombre del alumno:</strong> Pedro Aguilar Rodriguez<br>\n",
    "    <strong>Código del alumno:</strong> 218713675<br>\n",
    "    <strong>Repositorio GitHub:</strong><a href='https://github.com/pedro1001031001/AD-2025-B/tree/master'>https://github.com/pedro1001031001/AD-2025-B/tree/master</a>.<br>\n",
    "    <strong>Fecha:</strong> 30 de agosto de 2025<br>\n",
    "    <strong>Objetivo(s):</strong><br>\n",
    "    <ol>\n",
    "        <li>Explicación del caso.</li>\n",
    "        <li>Codificación de la carga de datos.</li><br>\n",
    "    </ol>\n",
    "</p>"
   ]
  },
  {
   "cell_type": "code",
   "execution_count": null,
   "id": "68b665e7-5d67-48a1-a414-88a67dcad51f",
   "metadata": {},
   "outputs": [],
   "source": []
  }
 ],
 "metadata": {
  "kernelspec": {
   "display_name": "Python [conda env:base] *",
   "language": "python",
   "name": "conda-base-py"
  },
  "language_info": {
   "codemirror_mode": {
    "name": "ipython",
    "version": 3
   },
   "file_extension": ".py",
   "mimetype": "text/x-python",
   "name": "python",
   "nbconvert_exporter": "python",
   "pygments_lexer": "ipython3",
   "version": "3.13.5"
  }
 },
 "nbformat": 4,
 "nbformat_minor": 5
}
