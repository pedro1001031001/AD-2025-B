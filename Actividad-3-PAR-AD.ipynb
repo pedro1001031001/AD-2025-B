{
 "cells": [
  {
   "cell_type": "markdown",
   "id": "5c2c0d3e-58d0-4e8e-9b5a-a9261520f8ec",
   "metadata": {},
   "source": [
    "\n",
    "<h1> Analítica de Datos | PAR </h1>\n",
    "<h2> <strong>Actividad 3:</strong> Codificación en un cuaderno de Jupyter Notebook</h2>\n",
    "\n",
    "<p> <strong>Nombre del alumno:</strong> Pedro Aguilar Rodriguez</p>\n",
    "<p> <strong>Código del alumno:</strong> 218713675</p>\n",
    "<p> <strong>Fecho:</strong> 23 de agosto de 2025</p>\n",
    "\n",
    "<p> <strong>Objetivo(s):</strong>\n",
    "    <ol>\n",
    "        <li>Codificación de las variables, tipos de variables y operadores en Python.</li>\n",
    "        <li>Codificación de las funciones y modulos en Python.</li>\n",
    "        <li>Codificación de las estructuras de control.</li>\n",
    "    </ol>\n",
    "</p>\n"
   ]
  },
  {
   "cell_type": "markdown",
   "id": "a7859628-d9df-4d10-9dc5-2202e22a0c7c",
   "metadata": {},
   "source": [
    "<h3> Codificación de las variables, tipos de variables y los operadores</h3>\n",
    "\n",
    "<h4> Variables</h4>\n",
    "<p>\n",
    "    Como primer punto, es importante reconocer que Python es de tipado dinámico, es decir, se asocia tipos con objetos en lugar de variables; por lo que, una variable no tiene un tipo fijo (Miró Quesada, s.f., diapositiva 30).\n",
    "    <br>\n",
    "    Una variable es un nombre que se refiere a un valor. El nombre debe autodocumentarse y ser de calquier longitud. Se puede formar de manera alfanumerica, pero nunca iniciamdo por un número (Miró Quesada, s.f., diapositiva 18).\n",
    "    <br>\n",
    "    Las variables son como contenedores que almacenan valores/datos. Estas variables apuntan a la memoria local, en donde se almacena los datos asisgnados. Por lo general se usan minusculas y no se debe utilizar las palabras reservadas (Miró Quesada, s.f., diapositiva 18).\n",
    "    <br>\n",
    "    En Python, no es necesario declarar las variables antes de usarlas; pues en si, la asignación inicial de la variable crea a la misma variable, y genera el enlace a su valor (Miró Quesada, s.f., diapositiva 30).\n",
    "</p>\n",
    "<br></br>\n",
    "\n",
    "<h4> Tipo de dato</h4>\n",
    "<p> Es un conjunto de valores y conjunto de operaciones definidas en esos valores.<br>\n",
    "    En Python, se tienen diversos tipos, los cuales van desde:\n",
    "    <ol>\n",
    "        <li>Números.</li>\n",
    "            <ol>\n",
    "                <li>Enteros. Representan enteros o números naturales (Miró Quesada, s.f., diapositiva 21).</li>\n",
    "                <li>Flotantes. Representan números en punto flotante (Miró Quesada, s.f., diapositiva 23).</li>\n",
    "                <li>Booleanos. Son aquellos que toman valores de \"True\" y \"False\" (Miró Quesada, s.f., diapositiva 26).</li>\n",
    "                <li>Números complejos.</li>\n",
    "            </ol>\n",
    "        <li>Cadenas. Representan cadenas de caracteres (Miró Quesada, s.f., diapositiva 47).</li>\n",
    "        <li>Listas. Estructuras de datos que almacena una secuencia de objetos, normalmente del mismo tipo, que puede crecer y encogerse dinámicamente (Miró Quesada, s.f., diapositiva 58.).</li>\n",
    "        <li>Tuplas. Similar a las listas, con la excepción de ser inmutables (Miró Quesada, s.f., diapositiva 65).</li>\n",
    "        <li>Y, diccionarios. Son un conjunto de pares-llaves (Miró Quesada, s.f., diapositiva 66).</li>\n",
    "    </ol><br></br>\n",
    "    A continuación se ejemplifica cómo se declaran e inicializan las variables de tipo numérico.\n",
    "</p>"
   ]
  },
  {
   "cell_type": "code",
   "execution_count": 35,
   "id": "606d81c7-3c59-4122-9ff7-8eeae790ea24",
   "metadata": {},
   "outputs": [
    {
     "name": "stdout",
     "output_type": "stream",
     "text": [
      "<class 'int'>\n",
      "<class 'float'>\n",
      "<class 'bool'>\n"
     ]
    }
   ],
   "source": [
    "# Tipo entero\n",
    "entero : int = 1 # Declaración e inicialización de la variable \"entero\" de tipo de dato int\n",
    "print(type(entero))\n",
    "\n",
    "# Tipo float\n",
    "flotante : float = 2.01 # Declaración e inicialización de la variable \"flotante\" de tipo de dato float \n",
    "print(type(flotante))\n",
    "\n",
    "# Tipo boolean\n",
    "booleano : bool = True # Declaración e inicialización de la variable \"booleano\" de tipo de dato boolean \n",
    "print(type(booleano))"
   ]
  },
  {
   "cell_type": "markdown",
   "id": "881d370d-f8c2-40af-8a33-0d45c4fd44f9",
   "metadata": {},
   "source": [
    "<p> En el siguiente modulo, se codificaran los siguientes tipos: cadena, lista, tupla y diccionario.</p>"
   ]
  },
  {
   "cell_type": "code",
   "execution_count": 33,
   "id": "54ef7bb4-dcd8-46c3-9026-154df6164296",
   "metadata": {},
   "outputs": [
    {
     "name": "stdout",
     "output_type": "stream",
     "text": [
      "Manzana\n",
      "Matemátcas\n",
      "a\n",
      "LAFI\n"
     ]
    }
   ],
   "source": [
    "# Cadena de caracteres\n",
    "cadena : str = \"Manzana\"\n",
    "print(cadena)\n",
    "\n",
    "# Lista\n",
    "lista : list = [\"Matemátcas\", \"Ciencias\", \"Español\"]\n",
    "print(lista[0])\n",
    "\n",
    "# Tupla\n",
    "tupla : tuple =  (\"a\", \"b\", \"c\")\n",
    "print(tupla[0])\n",
    "\n",
    "# Diccionario\n",
    "diccionario : dict = {'Nombre' :'Pedrp', 'Edad' : '22', 'Licenciatura' : 'LAFI'}\n",
    "print(diccionario['Licenciatura'])"
   ]
  },
  {
   "cell_type": "markdown",
   "id": "1a615d72-d8b0-49e7-80b3-d9ef8c14078a",
   "metadata": {},
   "source": [
    "<h4> Operadores</h4>\n",
    "<p> Es un simbolo que representa una operación a realizar entre uno o más operandos.<br>\n",
    "    <ol>\n",
    "        <li>Asignación</li>\n",
    "        <li>Aritméticos:</li>\n",
    "            <ol>\n",
    "                <li>Adicion (+).</li>\n",
    "                <li>Sustracción (-).</li>\n",
    "                <li>Multiplicación (*).</li>\n",
    "                <li>División: float(/) y integer (//).</li>\n",
    "                <li>Exponencial (**).</li>\n",
    "                <li>Módulo (%).</li>\n",
    "            </ol>\n",
    "        <li>Comparación.</li>\n",
    "            <ol>\n",
    "                <li>Igual (==).</li>\n",
    "                <li>Diferente (!=).</li>\n",
    "                <li>Menor que (<).</li>\n",
    "                <li>Menor o igual que  (<=).</li>\n",
    "                <li>Mayor que (>).</li>\n",
    "                <li>Mayor o igual que (>=).</li>\n",
    "            </ol>\n",
    "        <li>Lógico:</li>\n",
    "            <ol>\n",
    "                <li>AND (and).</li>\n",
    "                <li>OR (or).</li>\n",
    "                <li>NOT  (not).</li>\n",
    "            </ol>\n",
    "    </ol>\n",
    "    A continuación se ejemplifica cómo se usan los operadores.\n",
    "</p>"
   ]
  },
  {
   "cell_type": "code",
   "execution_count": 36,
   "id": "0254150c-bf5b-459e-8e81-265ad7ef4409",
   "metadata": {},
   "outputs": [
    {
     "name": "stdout",
     "output_type": "stream",
     "text": [
      "Valor de 'a': 1\n",
      "Valor de 'b': 2\n",
      "\n",
      "Adición de 1 y 2: 3\n",
      "Sustracción hacia 1 de 2: -1\n",
      "Multiplicación de 1 por 2: 2\n",
      "División de 1 por 2: 0.5\n",
      "Elevación de 1 por 2: 1\n",
      "Módulo de 1 al ser dividido por 2: 1\n",
      "\n",
      "Es 1 igual que 2: False\n",
      "Es 1 diferente que 2: True\n",
      "Es 1 mayor que 2: False\n",
      "Es 1 mayor o igual que 2: False\n",
      "Es 1 menor que 2: True\n",
      "Es 1 mayor o igual que 2: True\n"
     ]
    }
   ],
   "source": [
    "# Operadores de asignación\n",
    "a = 1\n",
    "b = 2\n",
    "\n",
    "print(f'Valor de \\'a\\': {a}')\n",
    "print(f'Valor de \\'b\\': {b}')\n",
    "print('')\n",
    "\n",
    "# Operadores aritméticos\n",
    "print(f'Adición de {a} y {b}: {a + b}')\n",
    "print(f'Sustracción hacia {a} de {b}: {a - b}')\n",
    "print(f'Multiplicación de {a} por {b}: {a * b}')\n",
    "print(f'División de {a} por {b}: {a / b}')\n",
    "print(f'Elevación de {a} por {b}: {a ** b}')\n",
    "print(f'Módulo de {a} al ser dividido por {b}: {a % b}')\n",
    "print('')\n",
    "\n",
    "# Operadores de comparación\n",
    "print(f'Es {a} igual que {b}: {a == b}')\n",
    "print(f'Es {a} diferente que {b}: {a != b}')\n",
    "print(f'Es {a} mayor que {b}: {a > b}')\n",
    "print(f'Es {a} mayor o igual que {b}: {a >= b}')\n",
    "print(f'Es {a} menor que {b}: {a < b}')\n",
    "print(f'Es {a} mayor o igual que {b}: {a <= b}')"
   ]
  },
  {
   "cell_type": "markdown",
   "id": "76b2c0fb-3d3f-48e1-9448-345f0c38bd8d",
   "metadata": {},
   "source": [
    "<h3>Codificación de las funciones y modulos en Python</h3>\n",
    "\n",
    "<p>\n",
    "    Las funciones son un grupo de instrucciones que constituyen una unidad lógica del cualquier programa y resuelve un problema específico. Dentro de una función, se contempla la intrucción \"return\", la cual devuelve un valor. Sintaxis:\n",
    "\n",
    "    def función_name(argumento_1, argumento_2,..., argumento_n):\n",
    "        acciones\n",
    "        return 0\n",
    "\n",
    "   Se define con la palabra \"def\" seguida de los elementos: nombre de la función, los parametros y los dos puntos; y, de forma identada, el cuerpo.\n",
    "</p>"
   ]
  },
  {
   "cell_type": "code",
   "execution_count": 15,
   "id": "227f001c-c3cd-462a-bb0f-abdf15497a30",
   "metadata": {},
   "outputs": [
    {
     "name": "stdout",
     "output_type": "stream",
     "text": [
      "Hello, world!\n"
     ]
    }
   ],
   "source": [
    " \n",
    "def main():\n",
    "    print('Hello, world!')\n",
    "\n",
    "main()"
   ]
  },
  {
   "cell_type": "markdown",
   "id": "c85f002e-c33d-4d84-8676-a3229ac93960",
   "metadata": {},
   "source": [
    "<h3>Codificación de las estructuras de control</h3>\n",
    "\n",
    "<h4>If-else</h4>\n",
    "<p>\n",
    "    Se usa cuando se requiere realizar diferentes acciones para diferentes condiciones (Miró Quesada, s.f., diapositiva 75). Sintaxis: <br>\n",
    "    \n",
    "    if condición_1:\n",
    "        acciones\n",
    "    elif condición_2:\n",
    "        acciones\n",
    "    ...\n",
    "    elif condición_3:\n",
    "        acciones\n",
    "    else:\n",
    "        acciones\n",
    "</p>"
   ]
  },
  {
   "cell_type": "code",
   "execution_count": 16,
   "id": "e9bb7073-3618-4d0a-a559-528e02adefbb",
   "metadata": {},
   "outputs": [
    {
     "name": "stdout",
     "output_type": "stream",
     "text": [
      "34 es igual que 34.\n"
     ]
    }
   ],
   "source": [
    "a = 34\n",
    "b = 34\n",
    "\n",
    "if a > b:\n",
    "    print(f'{a} es mayor que{b}.')\n",
    "    \n",
    "elif a < b:\n",
    "    print(f'{a} es menor que {b}.')   \n",
    "\n",
    "else:\n",
    "    print(f'{a} es igual que {b}.')\n"
   ]
  },
  {
   "cell_type": "markdown",
   "id": "d99ba0b3-4821-45bc-88f4-8d72950f736b",
   "metadata": {},
   "source": [
    "<h4>While</h4>\n",
    "\n",
    "<p>El ciclo de control while permite generar acciones repetitivos sujetas a una condición (Miró Quesada, s.f., diapositiva 79). Sintaxis: <br>\n",
    "\n",
    "    while test:\n",
    "        acciones\n",
    "    else # Opcional\n",
    "        acciones\n",
    "</p>"
   ]
  },
  {
   "cell_type": "code",
   "execution_count": 17,
   "id": "79c3da20-8a3a-4b92-86bd-6cdd5adf4260",
   "metadata": {},
   "outputs": [
    {
     "name": "stdin",
     "output_type": "stream",
     "text": [
      "Ingresa un dígito (del 1 al 10):  10\n"
     ]
    },
    {
     "name": "stdout",
     "output_type": "stream",
     "text": [
      "*\n",
      "**\n",
      "***\n",
      "****\n",
      "*****\n",
      "******\n",
      "*******\n",
      "********\n",
      "*********\n",
      "**********\n"
     ]
    }
   ],
   "source": [
    "n = int(input('Ingresa un dígito (del 1 al 10): '))\n",
    "i = 1\n",
    "\n",
    "while i <= n:\n",
    "    print('*'* i)\n",
    "    i += 1\n",
    "    "
   ]
  },
  {
   "cell_type": "markdown",
   "id": "01ab0ed4-4103-4d3e-838f-5caaad1ec0e3",
   "metadata": {},
   "source": [
    "<h4>For</h4>\n",
    "\n",
    "<p>\n",
    "    Se utiliza para iterar acciones según un determinado número de items. Se interpreta como: \"para cada item en la secuencia..\" (Miró Quesada, s.f., diapositiva 82). Sintaxis:<br>\n",
    "    \n",
    "    for item in secuence:\n",
    "        acciones\n",
    "    else: # Opcional, se ejecuta si no se tienen un \"break\"\n",
    "        acciones\n",
    "</p>"
   ]
  },
  {
   "cell_type": "code",
   "execution_count": 18,
   "id": "ac3067b5-e328-48cf-b5f6-045ddbdf73a5",
   "metadata": {},
   "outputs": [
    {
     "name": "stdout",
     "output_type": "stream",
     "text": [
      "Matemáticas\n",
      "Español\n",
      "Ciencias\n"
     ]
    }
   ],
   "source": [
    "for item in {'Matemáticas','Ciencias','Español'}:\n",
    "    print(item)\n",
    "    "
   ]
  },
  {
   "cell_type": "markdown",
   "id": "049f3fc8-cd44-4554-beed-96173e4a8bb4",
   "metadata": {},
   "source": [
    "<h2> Bibliografia</h2>\n",
    "\n",
    "<div style=“sangría de texto: -36px; relleno izquierdo: 36px;”>\n",
    "    Miró Quesada, P.C. (s.f.). Introduccion a la programación en Python [Diapositivas de PowerPoint]. Universidad de Cantabria.<a href=\"https://personales.unican.es/corcuerp/python/Slides/IntroPython%20s1.pdf\"</a> https://personales.unican.es/corcuerp/python/Slides/IntroPython%20s1.pdf<a></a>  \n",
    "</div>"
   ]
  }
 ],
 "metadata": {
  "kernelspec": {
   "display_name": "Python [conda env:base] *",
   "language": "python",
   "name": "conda-base-py"
  },
  "language_info": {
   "codemirror_mode": {
    "name": "ipython",
    "version": 3
   },
   "file_extension": ".py",
   "mimetype": "text/x-python",
   "name": "python",
   "nbconvert_exporter": "python",
   "pygments_lexer": "ipython3",
   "version": "3.13.5"
  }
 },
 "nbformat": 4,
 "nbformat_minor": 5
}
