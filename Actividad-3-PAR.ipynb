{
 "cells": [
  {
   "cell_type": "markdown",
   "id": "5c2c0d3e-58d0-4e8e-9b5a-a9261520f8ec",
   "metadata": {},
   "source": [
    "\n",
    "<h1> Analítica de Datos | PAR </h1>\n",
    "<h2> <strong>Actividad 3:</strong> Codificación en un cuaderno de Jupyter Notebook</h2>\n",
    "\n",
    "<p> <strong>Nombre del alumno:</strong> Pedro Aguilar Rodriguez</p>\n",
    "<p> <strong>Código del alumno:</strong> 218713675</p>\n",
    "<p> <strong>Fecho:</strong> 20 de agosto de 2025</p>\n",
    "\n",
    "<p> <strong>Objetivo(s):</strong>\n",
    "    <ol>\n",
    "        <li>Codificación de las variables, tipos de variables y operadores en Python.</li>\n",
    "        <li>Codificación de las funciones y modulos en Python.</li>\n",
    "        <li>Codificación de las estructuras de control.</li>\n",
    "    </ol>\n",
    "</p>\n"
   ]
  },
  {
   "cell_type": "markdown",
   "id": "a7859628-d9df-4d10-9dc5-2202e22a0c7c",
   "metadata": {},
   "source": [
    "<h3> Codificación de las variables, tipos de variables y los operadores</h3>\n",
    "\n",
    "<h4> Variables</h4>\n",
    "<p>\n",
    "    Como primer punto, es importante reconocer que Python es de tipado dinámico, es decir, se asocia tipos con objetos en lugar de variables; por lo que, una variable no tiene un tipo fijo (Corcueca, s.f.).\n",
    "    <br>\n",
    "    Una variable es un nombre que se refiere a un valor. El nombre debe autodocumentarse y ser de calquier longitud. Se puede formar de manera alfanumerica, pero nunca iniciamdo por un número.\n",
    "    <br>\n",
    "    Las variables son como contenedores que almacenan valores/datos. Estas variables apuntan a la memoria local, en donde se almacena los datos asisgnados. Por lo general se usan minusculas y no se debe utilizar las palabras reservadas (, s.f.).\n",
    "    <br>\n",
    "    En Python, no es necesario declarar las variables antes de usarlas; pues en si, la asignación inicial de la variable crea a la misma variable, y genera el enlace a su valor (Corcueca, s.f.).\n",
    "</p>\n",
    "\n",
    "<h4> Tipo de dato</h4>\n",
    "<p> Es un conjunto de valores y conjunto de operaciones definidas en esos valores.<br>\n",
    "    En Python, se tienen diversos tpos, los cuales van desde:\n",
    "    <ol>\n",
    "        <li>Números.</li>\n",
    "            <ol>\n",
    "                <li>Enteros.</li>\n",
    "                <li>Flotantes.</li>\n",
    "                <li>Booleanos.</li>\n",
    "                <li>Números complejos.</li>\n",
    "            </ol>\n",
    "        <li>Cadena.</li>\n",
    "        <li>Listas.</li>\n",
    "        <li>Tuplas.</li>\n",
    "        <li>Diccionarios.</li>\n",
    "    </ol>\n",
    "    A continuación se ejemplifica cómo se declaran e inicializan las variables de tipo numérico.\n",
    "</p>"
   ]
  },
  {
   "cell_type": "code",
   "execution_count": 11,
   "id": "606d81c7-3c59-4122-9ff7-8eeae790ea24",
   "metadata": {},
   "outputs": [
    {
     "data": {
      "text/plain": [
       "int"
      ]
     },
     "execution_count": 11,
     "metadata": {},
     "output_type": "execute_result"
    }
   ],
   "source": [
    "\n",
    "entero : int = 1 # Declaración e inicialización de la variable \"entero\" de tipo de dato int \n",
    "flotante : float = 2.01 # Declaración e inicialización de la variable \"flotante\" de tipo de dato float \n",
    "booleano : bool = True # Declaración e inicialización de la variable \"booleano\" de tipo de dato boolean \n",
    "\n",
    "type(entero)\n",
    "type(flotante)\n",
    "type(booleano)"
   ]
  },
  {
   "cell_type": "code",
   "execution_count": null,
   "id": "54ef7bb4-dcd8-46c3-9026-154df6164296",
   "metadata": {},
   "outputs": [],
   "source": [
    "lista : lst = [\"Matemátcas\", \"\"]"
   ]
  },
  {
   "cell_type": "markdown",
   "id": "76b2c0fb-3d3f-48e1-9448-345f0c38bd8d",
   "metadata": {},
   "source": [
    "<h3>Codificación de las funciones y modulos en Python</h3>\n",
    "\n",
    "<p>\n",
    "    Dentro de la función, se contempla la intrucción \"return\", la cual devuelve un valor. Sintaxis:\n",
    "\n",
    "    def función_name(armento_1, argmento_2,..., argumento_n):\n",
    "        acciones\n",
    "        return 0\n",
    "\n",
    "   Se define con la palabra \"def\" seguida de los elementos: nombre de la función, los parametros y los dos puntos; y, de forma identada, el cuerpo.\n",
    "</p>"
   ]
  },
  {
   "cell_type": "code",
   "execution_count": null,
   "id": "227f001c-c3cd-462a-bb0f-abdf15497a30",
   "metadata": {},
   "outputs": [],
   "source": []
  },
  {
   "cell_type": "markdown",
   "id": "c85f002e-c33d-4d84-8676-a3229ac93960",
   "metadata": {},
   "source": [
    "<h3>Codificación de las estructuras de control</h3>\n",
    "\n",
    "<h4>If</h4>\n",
    "<p>\n",
    "    Se usa cuando se requiere realizar diferentes acciones para diferentes condiciones. Sintaxis: <br>\n",
    "    \n",
    "    if condición_1:\n",
    "        acciones\n",
    "    elif condición_2:\n",
    "        acciones\n",
    "    ...\n",
    "    elif condición_3:\n",
    "        acciones\n",
    "    else:\n",
    "        acciones\n",
    "</p>\n",
    "|"
   ]
  },
  {
   "cell_type": "code",
   "execution_count": null,
   "id": "e9bb7073-3618-4d0a-a559-528e02adefbb",
   "metadata": {},
   "outputs": [],
   "source": [
    "if :\n",
    "    \n",
    "elif:\n",
    "    \n",
    "else:\n",
    "    "
   ]
  },
  {
   "cell_type": "markdown",
   "id": "d99ba0b3-4821-45bc-88f4-8d72950f736b",
   "metadata": {},
   "source": [
    "<h4>While</h4>\n",
    "\n",
    "<p>El ciclo de control while permite generar acciones repetitivos sujetas a una condición. Sintaxis: <br>\n",
    "\n",
    "    while test:\n",
    "        acciones\n",
    "        \n",
    "</p>\n"
   ]
  },
  {
   "cell_type": "code",
   "execution_count": null,
   "id": "79c3da20-8a3a-4b92-86bd-6cdd5adf4260",
   "metadata": {},
   "outputs": [],
   "source": [
    "\n",
    "while b:\n",
    "    "
   ]
  },
  {
   "cell_type": "markdown",
   "id": "01ab0ed4-4103-4d3e-838f-5caaad1ec0e3",
   "metadata": {},
   "source": [
    "<h4>For</h4>\n",
    "\n",
    "<p>\n",
    "    Se utiliza para iterar acciones según un determinado número de items. Se interpreta como: \"para cada item en la secuencia..\". Sintaxis:<br>\n",
    "    \n",
    "    for item in secuence:\n",
    "        acciones\n",
    "</p>"
   ]
  },
  {
   "cell_type": "code",
   "execution_count": null,
   "id": "ac3067b5-e328-48cf-b5f6-045ddbdf73a5",
   "metadata": {},
   "outputs": [],
   "source": [
    "for a in librery\n",
    "    "
   ]
  },
  {
   "cell_type": "markdown",
   "id": "049f3fc8-cd44-4554-beed-96173e4a8bb4",
   "metadata": {},
   "source": [
    "<h2> Bibliografia</h2>\n",
    "\n",
    "<div style=“sangría de texto: -36px; relleno izquierdo: 36px;”>\n",
    "    M sada, (s.f.). Introduccion a la programación en Python. <a href=\"https://personales.unican.es/corcuerp/python/Slides/IntroPython%20s1.pdf\"</a> https://personales.unican.es/corcuerp/python/Slides/IntroPython%20s1.pdf<a></a>  \n",
    "</div>"
   ]
  },
  {
   "cell_type": "code",
   "execution_count": null,
   "id": "edc5faec-edcf-4896-9b66-15de0e54d40f",
   "metadata": {},
   "outputs": [],
   "source": []
  }
 ],
 "metadata": {
  "kernelspec": {
   "display_name": "Python [conda env:base] *",
   "language": "python",
   "name": "conda-base-py"
  },
  "language_info": {
   "codemirror_mode": {
    "name": "ipython",
    "version": 3
   },
   "file_extension": ".py",
   "mimetype": "text/x-python",
   "name": "python",
   "nbconvert_exporter": "python",
   "pygments_lexer": "ipython3",
   "version": "3.13.5"
  }
 },
 "nbformat": 4,
 "nbformat_minor": 5
}
