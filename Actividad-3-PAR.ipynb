{
 "cells": [
  {
   "cell_type": "markdown",
   "id": "5c2c0d3e-58d0-4e8e-9b5a-a9261520f8ec",
   "metadata": {},
   "source": [
    "\n",
    "# Head 1\n"
   ]
  }
 ],
 "metadata": {
  "kernelspec": {
   "display_name": "Python [conda env:base] *",
   "language": "python",
   "name": "conda-base-py"
  },
  "language_info": {
   "codemirror_mode": {
    "name": "ipython",
    "version": 3
   },
   "file_extension": ".py",
   "mimetype": "text/x-python",
   "name": "python",
   "nbconvert_exporter": "python",
   "pygments_lexer": "ipython3",
   "version": "3.13.5"
  }
 },
 "nbformat": 4,
 "nbformat_minor": 5
}
