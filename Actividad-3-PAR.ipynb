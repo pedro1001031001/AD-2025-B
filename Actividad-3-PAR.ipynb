{
 "cells": [
  {
   "cell_type": "markdown",
   "id": "5c2c0d3e-58d0-4e8e-9b5a-a9261520f8ec",
   "metadata": {},
   "source": [
    "\n",
    "<h1> Analítica de Datos | PAR </h1>\n",
    "<h2> <strong>Actividad 3:</strong> Codificación en un cuaderno de Jupyter Notebook</h2>\n",
    "\n",
    "<p> <strong>Nombre del alumno:</strong> Pedro Aguilar Rodriguez</p>\n",
    "<p> <strong>Código del alumno:</strong> 218713675</p>\n",
    "<p> <strong>Fecho:</strong> 20 de agosto de 2025</p>\n",
    "\n",
    "<p> <strong>Objetivo(s):</strong>\n",
    "    <ol>\n",
    "        <li>Codificación de las variables, tipos de variables y operadores en Python.</li>\n",
    "        <li>Codificación de las funciones y modulos en Python.</li>\n",
    "        <li>Codificación de las estructuras de control.</li>\n",
    "    </ol>\n",
    "</p>\n"
   ]
  },
  {
   "cell_type": "markdown",
   "id": "a7859628-d9df-4d10-9dc5-2202e22a0c7c",
   "metadata": {
    "jp-MarkdownHeadingCollapsed": true
   },
   "source": [
    "<h3>Codificación de las variabls, tipos de variables y los operadores</h3>"
   ]
  },
  {
   "cell_type": "markdown",
   "id": "76b2c0fb-3d3f-48e1-9448-345f0c38bd8d",
   "metadata": {},
   "source": [
    "<h3>Cdfcac´n d las fncns y mdls n ythn</h3>"
   ]
  },
  {
   "cell_type": "markdown",
   "id": "c85f002e-c33d-4d84-8676-a3229ac93960",
   "metadata": {},
   "source": [
    "<h3>Cdfcac´n d las stcas de cntk</h3>"
   ]
  },
  {
   "cell_type": "markdown",
   "id": "049f3fc8-cd44-4554-beed-96173e4a8bb4",
   "metadata": {},
   "source": [
    "<h2>Bblgafa</h2>"
   ]
  },
  {
   "cell_type": "code",
   "execution_count": null,
   "id": "ac3067b5-e328-48cf-b5f6-045ddbdf73a5",
   "metadata": {},
   "outputs": [],
   "source": []
  }
 ],
 "metadata": {
  "kernelspec": {
   "display_name": "Python [conda env:base] *",
   "language": "python",
   "name": "conda-base-py"
  },
  "language_info": {
   "codemirror_mode": {
    "name": "ipython",
    "version": 3
   },
   "file_extension": ".py",
   "mimetype": "text/x-python",
   "name": "python",
   "nbconvert_exporter": "python",
   "pygments_lexer": "ipython3",
   "version": "3.13.5"
  }
 },
 "nbformat": 4,
 "nbformat_minor": 5
}
